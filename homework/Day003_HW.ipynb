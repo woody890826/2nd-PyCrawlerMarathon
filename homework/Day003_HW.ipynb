{
 "cells": [
  {
   "cell_type": "code",
   "execution_count": null,
   "metadata": {},
   "outputs": [],
   "source": [
    "#比較一下範例檔案中的「File I/O」與「xmltodict」讀出來的內容有什麼差異\n",
    "xmltodict可以根據個人所需印出自己需要的資料\n",
    "file I/O則印出該檔案的全部資料\n"
   ]
  },
  {
   "cell_type": "code",
   "execution_count": 3,
   "metadata": {},
   "outputs": [
    {
     "name": "stdout",
     "output_type": "stream",
     "text": [
      "Requirement already satisfied: xmltodict in c:\\users\\user\\anaconda3\\lib\\site-packages (0.12.0)\n"
     ]
    }
   ],
   "source": [
    "!pip install xmltodict"
   ]
  },
  {
   "cell_type": "code",
   "execution_count": 4,
   "metadata": {},
   "outputs": [],
   "source": [
    "import urllib.request\n",
    "import zipfile\n",
    "\n",
    "res = \"http://opendata.cwb.gov.tw/govdownload?dataid=F-D0047-093&authorizationkey=rdec-key-123-45678-011121314\"\n",
    "urllib.request.urlretrieve(res, \"./Data/example.zip\")\n",
    "f = zipfile.ZipFile('./Data/example.zip')\n",
    "f.extractall('./Data')"
   ]
  },
  {
   "cell_type": "code",
   "execution_count": 5,
   "metadata": {},
   "outputs": [],
   "source": [
    "#讀檔案\n",
    "fh=open('./Data/64_72hr_CH.xml','r',encoding='utf-8')\n",
    "xml=fh.read()\n",
    "fh.close()\n"
   ]
  },
  {
   "cell_type": "code",
   "execution_count": 72,
   "metadata": {},
   "outputs": [
    {
     "name": "stdout",
     "output_type": "stream",
     "text": [
      "高雄市有 38 區有溫度資料\n"
     ]
    }
   ],
   "source": [
    "#請問高雄市有多少地區有溫度資料？\n",
    "import xmltodict\n",
    "d=dict(xmltodict.parse(xml))\n",
    "xx=d['cwbopendata']['dataset']['locations']['location']\n",
    "print('高雄市有',len(xx),'區有溫度資料')"
   ]
  },
  {
   "cell_type": "code",
   "execution_count": 71,
   "metadata": {},
   "outputs": [
    {
     "name": "stdout",
     "output_type": "stream",
     "text": [
      "鹽埕區 2020-03-02T12:00:00+08:00 溫度 25\n",
      "鼓山區 2020-03-02T12:00:00+08:00 溫度 25\n",
      "左營區 2020-03-02T12:00:00+08:00 溫度 25\n",
      "楠梓區 2020-03-02T12:00:00+08:00 溫度 26\n",
      "三民區 2020-03-02T12:00:00+08:00 溫度 25\n",
      "新興區 2020-03-02T12:00:00+08:00 溫度 26\n",
      "前金區 2020-03-02T12:00:00+08:00 溫度 25\n",
      "苓雅區 2020-03-02T12:00:00+08:00 溫度 26\n",
      "前鎮區 2020-03-02T12:00:00+08:00 溫度 26\n",
      "旗津區 2020-03-02T12:00:00+08:00 溫度 25\n",
      "小港區 2020-03-02T12:00:00+08:00 溫度 26\n",
      "鳳山區 2020-03-02T12:00:00+08:00 溫度 27\n",
      "林園區 2020-03-02T12:00:00+08:00 溫度 27\n",
      "大寮區 2020-03-02T12:00:00+08:00 溫度 27\n",
      "大樹區 2020-03-02T12:00:00+08:00 溫度 28\n",
      "大社區 2020-03-02T12:00:00+08:00 溫度 27\n",
      "仁武區 2020-03-02T12:00:00+08:00 溫度 26\n",
      "鳥松區 2020-03-02T12:00:00+08:00 溫度 27\n",
      "岡山區 2020-03-02T12:00:00+08:00 溫度 26\n",
      "橋頭區 2020-03-02T12:00:00+08:00 溫度 26\n",
      "燕巢區 2020-03-02T12:00:00+08:00 溫度 26\n",
      "田寮區 2020-03-02T12:00:00+08:00 溫度 27\n",
      "阿蓮區 2020-03-02T12:00:00+08:00 溫度 26\n",
      "路竹區 2020-03-02T12:00:00+08:00 溫度 27\n",
      "湖內區 2020-03-02T12:00:00+08:00 溫度 25\n",
      "茄萣區 2020-03-02T12:00:00+08:00 溫度 24\n",
      "永安區 2020-03-02T12:00:00+08:00 溫度 25\n",
      "彌陀區 2020-03-02T12:00:00+08:00 溫度 25\n",
      "梓官區 2020-03-02T12:00:00+08:00 溫度 25\n",
      "旗山區 2020-03-02T12:00:00+08:00 溫度 27\n",
      "美濃區 2020-03-02T12:00:00+08:00 溫度 28\n",
      "六龜區 2020-03-02T12:00:00+08:00 溫度 27\n",
      "甲仙區 2020-03-02T12:00:00+08:00 溫度 30\n",
      "杉林區 2020-03-02T12:00:00+08:00 溫度 29\n",
      "內門區 2020-03-02T12:00:00+08:00 溫度 29\n",
      "茂林區 2020-03-02T12:00:00+08:00 溫度 28\n",
      "桃源區 2020-03-02T12:00:00+08:00 溫度 26\n",
      "那瑪夏區 2020-03-02T12:00:00+08:00 溫度 24\n"
     ]
    }
   ],
   "source": [
    "#取出每一個地區所記錄的第一個時間點跟溫度\n",
    "ccc=d['cwbopendata']['dataset']['locations']['location']\n",
    "print(ccc[0]['locationName'],ccc[0]['weatherElement'][0]['time'][0]['dataTime'],'溫度',ccc[0]['weatherElement'][0]['time'][0]['elementValue']['value'])\n",
    "print(ccc[1]['locationName'],ccc[1]['weatherElement'][0]['time'][0]['dataTime'],'溫度',ccc[1]['weatherElement'][0]['time'][0]['elementValue']['value'])\n",
    "print(ccc[2]['locationName'],ccc[2]['weatherElement'][0]['time'][0]['dataTime'],'溫度',ccc[2]['weatherElement'][0]['time'][0]['elementValue']['value'])\n",
    "print(ccc[3]['locationName'],ccc[3]['weatherElement'][0]['time'][0]['dataTime'],'溫度',ccc[3]['weatherElement'][0]['time'][0]['elementValue']['value'])\n",
    "print(ccc[4]['locationName'],ccc[4]['weatherElement'][0]['time'][0]['dataTime'],'溫度',ccc[4]['weatherElement'][0]['time'][0]['elementValue']['value'])\n",
    "print(ccc[5]['locationName'],ccc[5]['weatherElement'][0]['time'][0]['dataTime'],'溫度',ccc[5]['weatherElement'][0]['time'][0]['elementValue']['value'])\n",
    "print(ccc[6]['locationName'],ccc[6]['weatherElement'][0]['time'][0]['dataTime'],'溫度',ccc[6]['weatherElement'][0]['time'][0]['elementValue']['value'])\n",
    "print(ccc[7]['locationName'],ccc[7]['weatherElement'][0]['time'][0]['dataTime'],'溫度',ccc[7]['weatherElement'][0]['time'][0]['elementValue']['value'])\n",
    "print(ccc[8]['locationName'],ccc[8]['weatherElement'][0]['time'][0]['dataTime'],'溫度',ccc[8]['weatherElement'][0]['time'][0]['elementValue']['value'])\n",
    "print(ccc[9]['locationName'],ccc[9]['weatherElement'][0]['time'][0]['dataTime'],'溫度',ccc[9]['weatherElement'][0]['time'][0]['elementValue']['value'])\n",
    "print(ccc[10]['locationName'],ccc[10]['weatherElement'][0]['time'][0]['dataTime'],'溫度',ccc[10]['weatherElement'][0]['time'][0]['elementValue']['value'])\n",
    "print(ccc[11]['locationName'],ccc[11]['weatherElement'][0]['time'][0]['dataTime'],'溫度',ccc[11]['weatherElement'][0]['time'][0]['elementValue']['value'])\n",
    "print(ccc[12]['locationName'],ccc[12]['weatherElement'][0]['time'][0]['dataTime'],'溫度',ccc[12]['weatherElement'][0]['time'][0]['elementValue']['value'])\n",
    "print(ccc[13]['locationName'],ccc[13]['weatherElement'][0]['time'][0]['dataTime'],'溫度',ccc[13]['weatherElement'][0]['time'][0]['elementValue']['value'])\n",
    "print(ccc[14]['locationName'],ccc[14]['weatherElement'][0]['time'][0]['dataTime'],'溫度',ccc[14]['weatherElement'][0]['time'][0]['elementValue']['value'])\n",
    "print(ccc[15]['locationName'],ccc[15]['weatherElement'][0]['time'][0]['dataTime'],'溫度',ccc[15]['weatherElement'][0]['time'][0]['elementValue']['value'])\n",
    "print(ccc[16]['locationName'],ccc[16]['weatherElement'][0]['time'][0]['dataTime'],'溫度',ccc[16]['weatherElement'][0]['time'][0]['elementValue']['value'])\n",
    "print(ccc[17]['locationName'],ccc[17]['weatherElement'][0]['time'][0]['dataTime'],'溫度',ccc[17]['weatherElement'][0]['time'][0]['elementValue']['value'])\n",
    "print(ccc[18]['locationName'],ccc[18]['weatherElement'][0]['time'][0]['dataTime'],'溫度',ccc[18]['weatherElement'][0]['time'][0]['elementValue']['value'])\n",
    "print(ccc[19]['locationName'],ccc[19]['weatherElement'][0]['time'][0]['dataTime'],'溫度',ccc[19]['weatherElement'][0]['time'][0]['elementValue']['value'])\n",
    "print(ccc[20]['locationName'],ccc[20]['weatherElement'][0]['time'][0]['dataTime'],'溫度',ccc[20]['weatherElement'][0]['time'][0]['elementValue']['value'])\n",
    "print(ccc[21]['locationName'],ccc[21]['weatherElement'][0]['time'][0]['dataTime'],'溫度',ccc[21]['weatherElement'][0]['time'][0]['elementValue']['value'])\n",
    "print(ccc[22]['locationName'],ccc[22]['weatherElement'][0]['time'][0]['dataTime'],'溫度',ccc[22]['weatherElement'][0]['time'][0]['elementValue']['value'])\n",
    "print(ccc[23]['locationName'],ccc[23]['weatherElement'][0]['time'][0]['dataTime'],'溫度',ccc[23]['weatherElement'][0]['time'][0]['elementValue']['value'])\n",
    "print(ccc[24]['locationName'],ccc[24]['weatherElement'][0]['time'][0]['dataTime'],'溫度',ccc[24]['weatherElement'][0]['time'][0]['elementValue']['value'])\n",
    "print(ccc[25]['locationName'],ccc[25]['weatherElement'][0]['time'][0]['dataTime'],'溫度',ccc[25]['weatherElement'][0]['time'][0]['elementValue']['value'])\n",
    "print(ccc[26]['locationName'],ccc[26]['weatherElement'][0]['time'][0]['dataTime'],'溫度',ccc[26]['weatherElement'][0]['time'][0]['elementValue']['value'])\n",
    "print(ccc[27]['locationName'],ccc[27]['weatherElement'][0]['time'][0]['dataTime'],'溫度',ccc[27]['weatherElement'][0]['time'][0]['elementValue']['value'])\n",
    "print(ccc[28]['locationName'],ccc[28]['weatherElement'][0]['time'][0]['dataTime'],'溫度',ccc[28]['weatherElement'][0]['time'][0]['elementValue']['value'])\n",
    "print(ccc[29]['locationName'],ccc[29]['weatherElement'][0]['time'][0]['dataTime'],'溫度',ccc[29]['weatherElement'][0]['time'][0]['elementValue']['value'])\n",
    "print(ccc[30]['locationName'],ccc[30]['weatherElement'][0]['time'][0]['dataTime'],'溫度',ccc[30]['weatherElement'][0]['time'][0]['elementValue']['value'])\n",
    "print(ccc[31]['locationName'],ccc[31]['weatherElement'][0]['time'][0]['dataTime'],'溫度',ccc[31]['weatherElement'][0]['time'][0]['elementValue']['value'])\n",
    "print(ccc[32]['locationName'],ccc[32]['weatherElement'][0]['time'][0]['dataTime'],'溫度',ccc[32]['weatherElement'][0]['time'][0]['elementValue']['value'])\n",
    "print(ccc[33]['locationName'],ccc[33]['weatherElement'][0]['time'][0]['dataTime'],'溫度',ccc[33]['weatherElement'][0]['time'][0]['elementValue']['value'])\n",
    "print(ccc[34]['locationName'],ccc[34]['weatherElement'][0]['time'][0]['dataTime'],'溫度',ccc[34]['weatherElement'][0]['time'][0]['elementValue']['value'])\n",
    "print(ccc[35]['locationName'],ccc[35]['weatherElement'][0]['time'][0]['dataTime'],'溫度',ccc[35]['weatherElement'][0]['time'][0]['elementValue']['value'])\n",
    "print(ccc[36]['locationName'],ccc[36]['weatherElement'][0]['time'][0]['dataTime'],'溫度',ccc[36]['weatherElement'][0]['time'][0]['elementValue']['value'])\n",
    "print(ccc[37]['locationName'],ccc[37]['weatherElement'][0]['time'][0]['dataTime'],'溫度',ccc[37]['weatherElement'][0]['time'][0]['elementValue']['value'])\n"
   ]
  },
  {
   "cell_type": "code",
   "execution_count": 83,
   "metadata": {},
   "outputs": [
    {
     "name": "stdout",
     "output_type": "stream",
     "text": [
      "鹽埕區\n",
      "2020-03-02T12:00:00+08:00 溫度 25\n",
      "2020-03-02T15:00:00+08:00 溫度 25\n",
      "2020-03-02T18:00:00+08:00 溫度 24\n",
      "2020-03-02T21:00:00+08:00 溫度 22\n",
      "2020-03-03T00:00:00+08:00 溫度 21\n",
      "2020-03-03T03:00:00+08:00 溫度 20\n",
      "2020-03-03T06:00:00+08:00 溫度 20\n",
      "2020-03-03T09:00:00+08:00 溫度 22\n",
      "2020-03-03T12:00:00+08:00 溫度 25\n",
      "2020-03-03T15:00:00+08:00 溫度 26\n",
      "2020-03-03T18:00:00+08:00 溫度 24\n",
      "2020-03-03T21:00:00+08:00 溫度 23\n",
      "2020-03-04T00:00:00+08:00 溫度 22\n",
      "2020-03-04T03:00:00+08:00 溫度 21\n",
      "2020-03-04T06:00:00+08:00 溫度 20\n",
      "2020-03-04T09:00:00+08:00 溫度 22\n",
      "2020-03-04T12:00:00+08:00 溫度 26\n",
      "2020-03-04T15:00:00+08:00 溫度 26\n",
      "2020-03-04T18:00:00+08:00 溫度 24\n",
      "2020-03-04T21:00:00+08:00 溫度 22\n",
      "2020-03-05T00:00:00+08:00 溫度 21\n",
      "2020-03-05T03:00:00+08:00 溫度 20\n",
      "2020-03-05T06:00:00+08:00 溫度 19\n",
      "2020-03-05T09:00:00+08:00 溫度 21\n"
     ]
    }
   ],
   "source": [
    "#請取出第一個地區所記錄的每一個時間點跟溫度\n",
    "aaa=d['cwbopendata']['dataset']['locations']['location'][0]['weatherElement'][0]['time']\n",
    "#[0]['dataTime']\n",
    "print('鹽埕區')\n",
    "print(aaa[0]['dataTime'],'溫度',aaa[0]['elementValue']['value'])\n",
    "print(aaa[1]['dataTime'],'溫度',aaa[1]['elementValue']['value'])\n",
    "print(aaa[2]['dataTime'],'溫度',aaa[2]['elementValue']['value'])\n",
    "print(aaa[3]['dataTime'],'溫度',aaa[3]['elementValue']['value'])\n",
    "print(aaa[4]['dataTime'],'溫度',aaa[4]['elementValue']['value'])\n",
    "print(aaa[5]['dataTime'],'溫度',aaa[5]['elementValue']['value'])\n",
    "print(aaa[6]['dataTime'],'溫度',aaa[6]['elementValue']['value'])\n",
    "print(aaa[7]['dataTime'],'溫度',aaa[7]['elementValue']['value'])\n",
    "print(aaa[8]['dataTime'],'溫度',aaa[8]['elementValue']['value'])\n",
    "print(aaa[9]['dataTime'],'溫度',aaa[9]['elementValue']['value'])\n",
    "print(aaa[10]['dataTime'],'溫度',aaa[10]['elementValue']['value'])\n",
    "print(aaa[11]['dataTime'],'溫度',aaa[11]['elementValue']['value'])\n",
    "print(aaa[12]['dataTime'],'溫度',aaa[12]['elementValue']['value'])\n",
    "print(aaa[13]['dataTime'],'溫度',aaa[13]['elementValue']['value'])\n",
    "print(aaa[14]['dataTime'],'溫度',aaa[14]['elementValue']['value'])\n",
    "print(aaa[15]['dataTime'],'溫度',aaa[15]['elementValue']['value'])\n",
    "print(aaa[16]['dataTime'],'溫度',aaa[16]['elementValue']['value'])\n",
    "print(aaa[17]['dataTime'],'溫度',aaa[17]['elementValue']['value'])\n",
    "print(aaa[18]['dataTime'],'溫度',aaa[18]['elementValue']['value'])\n",
    "print(aaa[19]['dataTime'],'溫度',aaa[19]['elementValue']['value'])\n",
    "print(aaa[20]['dataTime'],'溫度',aaa[20]['elementValue']['value'])\n",
    "print(aaa[21]['dataTime'],'溫度',aaa[21]['elementValue']['value'])\n",
    "print(aaa[22]['dataTime'],'溫度',aaa[22]['elementValue']['value'])\n",
    "print(aaa[23]['dataTime'],'溫度',aaa[23]['elementValue']['value'])\n"
   ]
  },
  {
   "cell_type": "code",
   "execution_count": null,
   "metadata": {},
   "outputs": [],
   "source": []
  }
 ],
 "metadata": {
  "kernelspec": {
   "display_name": "Python 3",
   "language": "python",
   "name": "python3"
  },
  "language_info": {
   "codemirror_mode": {
    "name": "ipython",
    "version": 3
   },
   "file_extension": ".py",
   "mimetype": "text/x-python",
   "name": "python",
   "nbconvert_exporter": "python",
   "pygments_lexer": "ipython3",
   "version": "3.7.4"
  }
 },
 "nbformat": 4,
 "nbformat_minor": 2
}
