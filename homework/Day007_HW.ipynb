{
 "cells": [
  {
   "cell_type": "code",
   "execution_count": 1,
   "metadata": {},
   "outputs": [
    {
     "name": "stdout",
     "output_type": "stream",
     "text": [
      "ans:因為易取得，很容易被其他人修改原先http中的內容，而造成網頁內容與真實資訊不符。可能還有個資洩漏的問題。\n"
     ]
    }
   ],
   "source": [
    "#請問目前提到的這種基於 HTTP 一來一回的網頁傳輸方式，有哪些缺點及問題？\n",
    "print('ans:因為易取得，很容易被其他人修改原先http中的內容，而造成網頁內容與真實資訊不符。可能還有個資洩漏的問題。')"
   ]
  },
  {
   "cell_type": "code",
   "execution_count": 2,
   "metadata": {},
   "outputs": [
    {
     "name": "stdout",
     "output_type": "stream",
     "text": [
      "python有些資料型態是不能修改的，修改後會導向一個新的物件。而javascript所有的資料型態都是可以改變的\n"
     ]
    }
   ],
   "source": [
    "#第 16 頁所使用的 JavaScipt 程式語言，跟我們一般使用的 Python 在執行上有什麼不同。\n",
    "print('python有些資料型態是不能修改的，修改後會導向一個新的物件。而javascript所有的資料型態都是可以改變的')"
   ]
  },
  {
   "cell_type": "code",
   "execution_count": null,
   "metadata": {},
   "outputs": [],
   "source": []
  }
 ],
 "metadata": {
  "kernelspec": {
   "display_name": "Python 3",
   "language": "python",
   "name": "python3"
  },
  "language_info": {
   "codemirror_mode": {
    "name": "ipython",
    "version": 3
   },
   "file_extension": ".py",
   "mimetype": "text/x-python",
   "name": "python",
   "nbconvert_exporter": "python",
   "pygments_lexer": "ipython3",
   "version": "3.7.4"
  }
 },
 "nbformat": 4,
 "nbformat_minor": 2
}
